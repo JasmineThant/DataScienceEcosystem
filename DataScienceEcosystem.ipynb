{
 "cells": [
  {
   "cell_type": "markdown",
   "id": "61d92c85",
   "metadata": {},
   "source": [
    "# Data Science Tools and Ecosystem"
   ]
  },
  {
   "cell_type": "markdown",
   "id": "347c6d20",
   "metadata": {},
   "source": [
    "Data Science Tools and Ecosystem are summarized."
   ]
  },
  {
   "cell_type": "markdown",
   "id": "b973731a",
   "metadata": {},
   "source": [
    "## Some of the popular languages that Data Science use are:\n",
    "- Python\n",
    "- R\n",
    "- Julia\n",
    "- caffee"
   ]
  },
  {
   "cell_type": "markdown",
   "id": "c8277969",
   "metadata": {},
   "source": [
    "## Some of the commonly used libraries used by Data Scientists include:\n",
    "1. ggplot from R\n",
    "2. pandas from Python\n",
    "3. maplotlib from Python\n",
    "4. Leaflet from R"
   ]
  },
  {
   "cell_type": "markdown",
   "id": "cce21117",
   "metadata": {},
   "source": [
    "| Data Science Tools |\n",
    "|--------------------|\n",
    "| Jupyter Notebook |\n",
    "| Apache Zeppelin |\n",
    "| RStudio |"
   ]
  },
  {
   "cell_type": "markdown",
   "id": "68e304d1",
   "metadata": {},
   "source": [
    "### Below are a few examples of evaluating arithmetic expressions in Python."
   ]
  },
  {
   "cell_type": "markdown",
   "id": "96eff6c7",
   "metadata": {},
   "source": [
    "2 + 3 = 5"
   ]
  },
  {
   "cell_type": "code",
   "execution_count": 4,
   "id": "1459b352",
   "metadata": {},
   "outputs": [
    {
     "name": "stdout",
     "output_type": "stream",
     "text": [
      "3.3333333333333335\n"
     ]
    }
   ],
   "source": [
    "x = 200;\n",
    "y = (x/60);\n",
    "print(y);"
   ]
  },
  {
   "cell_type": "markdown",
   "id": "a5a8a502",
   "metadata": {},
   "source": [
    "## Objectives:\n",
    "* Popularlanguages\n",
    "* Common used libraries\n",
    "* Data Science Tools"
   ]
  },
  {
   "cell_type": "markdown",
   "id": "925b4475",
   "metadata": {},
   "source": [
    "<h2> Author:</h2>\n",
    "    Jasmine"
   ]
  },
  {
   "cell_type": "code",
   "execution_count": null,
   "id": "fd4928de",
   "metadata": {},
   "outputs": [],
   "source": []
  }
 ],
 "metadata": {
  "kernelspec": {
   "display_name": "Python 3 (ipykernel)",
   "language": "python",
   "name": "python3"
  },
  "language_info": {
   "codemirror_mode": {
    "name": "ipython",
    "version": 3
   },
   "file_extension": ".py",
   "mimetype": "text/x-python",
   "name": "python",
   "nbconvert_exporter": "python",
   "pygments_lexer": "ipython3",
   "version": "3.10.9"
  }
 },
 "nbformat": 4,
 "nbformat_minor": 5
}
